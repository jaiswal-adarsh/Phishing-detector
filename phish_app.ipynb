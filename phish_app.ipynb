{
 "cells": [
  {
   "cell_type": "code",
   "execution_count": 4,
   "id": "17f68274",
   "metadata": {},
   "outputs": [
    {
     "name": "stdout",
     "output_type": "stream",
     "text": [
      "Collecting uvicorn\n",
      "  Downloading uvicorn-0.20.0-py3-none-any.whl (56 kB)\n",
      "Requirement already satisfied: h11>=0.8 in c:\\users\\adars\\anaconda3\\lib\\site-packages (from uvicorn) (0.14.0)\n",
      "Requirement already satisfied: click>=7.0 in c:\\users\\adars\\anaconda3\\lib\\site-packages (from uvicorn) (7.1.2)\n",
      "Installing collected packages: uvicorn\n",
      "Successfully installed uvicorn-0.20.0\n",
      "Note: you may need to restart the kernel to use updated packages.\n"
     ]
    }
   ],
   "source": [
    "pip install uvicorn"
   ]
  },
  {
   "cell_type": "code",
   "execution_count": 2,
   "id": "bcc44415",
   "metadata": {},
   "outputs": [
    {
     "name": "stdout",
     "output_type": "stream",
     "text": [
      "Collecting gunicorn\n",
      "  Downloading gunicorn-20.1.0-py3-none-any.whl (79 kB)\n",
      "Requirement already satisfied: setuptools>=3.0 in c:\\users\\adars\\anaconda3\\lib\\site-packages (from gunicorn) (52.0.0.post20210125)\n",
      "Installing collected packages: gunicorn\n",
      "Successfully installed gunicorn-20.1.0\n",
      "Note: you may need to restart the kernel to use updated packages.\n"
     ]
    }
   ],
   "source": [
    "pip install gunicorn"
   ]
  },
  {
   "cell_type": "code",
   "execution_count": 7,
   "id": "460fdc37",
   "metadata": {},
   "outputs": [
    {
     "name": "stdout",
     "output_type": "stream",
     "text": [
      "Collecting fastapi\n",
      "  Downloading fastapi-0.89.1-py3-none-any.whl (55 kB)\n",
      "Collecting starlette==0.22.0\n",
      "  Downloading starlette-0.22.0-py3-none-any.whl (64 kB)\n",
      "Collecting pydantic!=1.7,!=1.7.1,!=1.7.2,!=1.7.3,!=1.8,!=1.8.1,<2.0.0,>=1.6.2\n",
      "  Downloading pydantic-1.10.4-cp38-cp38-win_amd64.whl (2.2 MB)\n",
      "Collecting typing-extensions>=3.10.0\n",
      "  Downloading typing_extensions-4.4.0-py3-none-any.whl (26 kB)\n",
      "Collecting anyio<5,>=3.4.0\n",
      "  Downloading anyio-3.6.2-py3-none-any.whl (80 kB)\n",
      "Requirement already satisfied: idna>=2.8 in c:\\users\\adars\\anaconda3\\lib\\site-packages (from anyio<5,>=3.4.0->starlette==0.22.0->fastapi) (2.10)\n",
      "Requirement already satisfied: sniffio>=1.1 in c:\\users\\adars\\anaconda3\\lib\\site-packages (from anyio<5,>=3.4.0->starlette==0.22.0->fastapi) (1.2.0)\n",
      "Installing collected packages: typing-extensions, anyio, starlette, pydantic, fastapi\n",
      "  Attempting uninstall: typing-extensions\n",
      "    Found existing installation: typing-extensions 3.7.4.3\n",
      "    Uninstalling typing-extensions-3.7.4.3:\n",
      "      Successfully uninstalled typing-extensions-3.7.4.3\n",
      "  Attempting uninstall: anyio\n",
      "    Found existing installation: anyio 2.2.0\n",
      "    Uninstalling anyio-2.2.0:\n",
      "      Successfully uninstalled anyio-2.2.0\n",
      "Successfully installed anyio-3.6.2 fastapi-0.89.1 pydantic-1.10.4 starlette-0.22.0 typing-extensions-4.4.0\n",
      "Note: you may need to restart the kernel to use updated packages.\n"
     ]
    }
   ],
   "source": [
    "pip install fastapi"
   ]
  },
  {
   "cell_type": "code",
   "execution_count": 5,
   "id": "cfa4858f",
   "metadata": {},
   "outputs": [],
   "source": [
    "import uvicorn"
   ]
  },
  {
   "cell_type": "code",
   "execution_count": 8,
   "id": "35d4a854",
   "metadata": {},
   "outputs": [],
   "source": [
    "from fastapi import FastAPI\n",
    "import joblib,os"
   ]
  },
  {
   "cell_type": "code",
   "execution_count": 9,
   "id": "7cf29242",
   "metadata": {},
   "outputs": [],
   "source": [
    "app=FastAPI()"
   ]
  },
  {
   "cell_type": "code",
   "execution_count": 10,
   "id": "341e4dba",
   "metadata": {},
   "outputs": [],
   "source": [
    "#pickle file"
   ]
  },
  {
   "cell_type": "code",
   "execution_count": 11,
   "id": "2fddf3f7",
   "metadata": {},
   "outputs": [],
   "source": [
    "phish_model=open('phishing.pkl','rb')\n",
    "phish_model_ls=joblib.load(phish_model)"
   ]
  },
  {
   "cell_type": "code",
   "execution_count": 12,
   "id": "6ce4c139",
   "metadata": {},
   "outputs": [],
   "source": [
    "#machine learning Aspect"
   ]
  },
  {
   "cell_type": "code",
   "execution_count": 15,
   "id": "93de4899",
   "metadata": {},
   "outputs": [
    {
     "ename": "SyntaxError",
     "evalue": "unexpected EOF while parsing (<ipython-input-15-49dcc98e7f05>, line 1)",
     "output_type": "error",
     "traceback": [
      "\u001b[1;36m  File \u001b[1;32m\"<ipython-input-15-49dcc98e7f05>\"\u001b[1;36m, line \u001b[1;32m1\u001b[0m\n\u001b[1;33m    @app.get('/predict/{feature}')\u001b[0m\n\u001b[1;37m                                  ^\u001b[0m\n\u001b[1;31mSyntaxError\u001b[0m\u001b[1;31m:\u001b[0m unexpected EOF while parsing\n"
     ]
    }
   ],
   "source": [
    "@app.get('/predict/{feature}')"
   ]
  },
  {
   "cell_type": "code",
   "execution_count": 17,
   "id": "3e7e34bf",
   "metadata": {},
   "outputs": [],
   "source": [
    "async def predict(features):\n",
    "    x_predict=[]\n",
    "    x_predict.append(str(features))\n",
    "    y_predict=phish_model_ls.predict(x_predict)\n",
    "    \n",
    "    if y_predict=='bad':\n",
    "        result=\"This is a Phishing Site\"\n",
    "        \n",
    "    else:\n",
    "        result=\"This is not a Phishing Site\"\n",
    "        \n",
    "    return (features,result)\n",
    "\n",
    "if __name__=='_main_':\n",
    "    uvicorn.run(app,host=\"127.0.0.1\",port=8000)"
   ]
  },
  {
   "cell_type": "code",
   "execution_count": null,
   "id": "7d0745f0",
   "metadata": {},
   "outputs": [],
   "source": []
  }
 ],
 "metadata": {
  "kernelspec": {
   "display_name": "Python 3",
   "language": "python",
   "name": "python3"
  },
  "language_info": {
   "codemirror_mode": {
    "name": "ipython",
    "version": 3
   },
   "file_extension": ".py",
   "mimetype": "text/x-python",
   "name": "python",
   "nbconvert_exporter": "python",
   "pygments_lexer": "ipython3",
   "version": "3.8.8"
  }
 },
 "nbformat": 4,
 "nbformat_minor": 5
}
